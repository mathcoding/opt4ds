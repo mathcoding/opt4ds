{
 "cells": [
  {
   "cell_type": "markdown",
   "metadata": {},
   "source": [
    "<a rel=\"license\" href=\"http://creativecommons.org/licenses/by/4.0/\"><img alt=\"Creative Commons License\" style=\"border-width:0\" src=\"https://i.creativecommons.org/l/by/4.0/88x31.png\" /></a><br /><span xmlns:dct=\"http://purl.org/dc/terms/\" property=\"dct:title\"><b>Color Transfer by Linear Programming</b></span> by <a xmlns:cc=\"http://creativecommons.org/ns#\" href=\"http://mate.unipv.it/gualandi\" property=\"cc:attributionName\" rel=\"cc:attributionURL\">Stefano Gualandi</a> is licensed under a <a rel=\"license\" href=\"http://creativecommons.org/licenses/by/4.0/\">Creative Commons Attribution 4.0 International License</a>.<br />Based on a work at <a xmlns:dct=\"http://purl.org/dc/terms/\" href=\"https://github.com/mathcoding/opt4ds\" rel=\"dct:source\">https://github.com/mathcoding/opt4ds</a>."
   ]
  },
  {
   "cell_type": "markdown",
   "metadata": {},
   "source": [
    "**NOTE:** Run the following script whenever running this script on a Google Colab."
   ]
  },
  {
   "cell_type": "code",
   "execution_count": null,
   "metadata": {},
   "outputs": [],
   "source": [
    "import shutil\n",
    "import sys\n",
    "import os.path\n",
    "\n",
    "if not shutil.which(\"pyomo\"):\n",
    "    !pip install -q pyomo\n",
    "    assert(shutil.which(\"pyomo\"))\n",
    "\n",
    "if not (shutil.which(\"glpk\") or os.path.isfile(\"glpk\")):\n",
    "    if \"google.colab\" in sys.modules:\n",
    "        !apt-get install -y -qq glpk-utils\n",
    "    else:\n",
    "        try:\n",
    "            !conda install -c conda-forge glpk \n",
    "        except:\n",
    "            pass"
   ]
  },
  {
   "cell_type": "markdown",
   "metadata": {},
   "source": [
    "**REMARK:** If working on your personal computer, you might want to install [Gurobi with an academic license](https://www.gurobi.com/academia/academic-program-and-licenses/). Gurobi is a commercial solver that is extremely fast in solving large ILP instances, much more faster than the free GLPK solver."
   ]
  },
  {
   "cell_type": "markdown",
   "metadata": {},
   "source": [
    "# 5. Color Transfer by Linear Programming\n",
    "In this lab session, you have to write a **Linear Programming** model to solve the optimal color transfer problem.\n",
    "\n",
    "The problem is defined as follows. Given two images *A* and *B*, that are two 3-dimensional matrices of size $n \\times m \\times 3$, we want to optimally transfer the color palette of image *A* into image *B* by using a subset of $N$ random pixels of the two images.\n",
    "\n",
    "Note that for image *A*, we have $m \\times n$ pixels which have associated a vector of three components *[Red, Green, Blue]* representing the three level of intensity for each color; each component of the RGB vector has a value in the range $[0,...,255]$. In practice, we represent every pixel has an element of $\\mathbb{R}_+^3$. Note that to visualize colors in python we have to normalize the three color channels to value in $[0..1]$, and hence we divide each color channel by 255.\n",
    "\n",
    "If we take two pixels $x,y \\in \\mathbb{R}_+^3$, we can measure their (color) RGB-distance using the Euclidean distance.\n",
    "\n",
    "Now we ready to state the problem: Take $N$ pixels (points) from image $A$, denoted by $N_A$, and $N$ points (pixel) from image $B$, denoted by $N_b$, and find the optimal mapping $\\pi$ of the points in $N_A$ to the points in $N_B$, that is $\\pi : N_A \\rightarrow N_B$, such that the overall sum of the (color) RGB-distances induced by the mapping is minimal."
   ]
  },
  {
   "cell_type": "markdown",
   "metadata": {},
   "source": [
    "**NOTE:** Once you have the optimal mapping $\\pi : N_A \\rightarrow N_B$, for each pixel $i$ of image $A$, you look for the closest pixel $j \\in N_A$, and you replace the color of pixel $j$ with the color of pixel $\\pi(i)$."
   ]
  },
  {
   "cell_type": "markdown",
   "metadata": {},
   "source": [
    "![Borgo Ticino](borgo.png)"
   ]
  },
  {
   "cell_type": "markdown",
   "metadata": {},
   "source": [
    "**EXERCISE 5.1:** Formulate the problem of finding the optimal mapping as a LP problem and solve it with Pyomo."
   ]
  },
  {
   "cell_type": "markdown",
   "metadata": {},
   "source": [
    "## 5.1 Loading and showing images as numpy matrices\n",
    "To load a .jpeg image into a matrix we can use the [imread](https://matplotlib.org/3.5.1/api/_as_gen/matplotlib.pyplot.imread.html) function of the [matplotlib](https://matplotlib.org/) library, that takes as input a string representing a filename, and it returns a [numpy](https://numpy.org/) matrix."
   ]
  },
  {
   "cell_type": "code",
   "execution_count": null,
   "metadata": {},
   "outputs": [],
   "source": [
    "import numpy as np\n",
    "import matplotlib.pyplot as plt\n",
    "\n",
    "def LoadImage(filename):\n",
    "    # Read and normalize image with color channel intesiti into the range [0..1]\n",
    "    A = plt.imread(filename).astype(np.float64) / 255.0\n",
    "    return A\n",
    "\n",
    "A = LoadImage('../data/notte.jpg')\n",
    "B = LoadImage('../data/borgo.jpg')"
   ]
  },
  {
   "cell_type": "markdown",
   "metadata": {},
   "source": [
    "To check the size of the image, you can type"
   ]
  },
  {
   "cell_type": "code",
   "execution_count": null,
   "metadata": {},
   "outputs": [],
   "source": [
    "print('size of A:', A.shape)\n",
    "print('size of B:', B.shape)"
   ]
  },
  {
   "cell_type": "markdown",
   "metadata": {},
   "source": [
    "And to draw the two original images:"
   ]
  },
  {
   "cell_type": "code",
   "execution_count": null,
   "metadata": {},
   "outputs": [],
   "source": [
    "# Defin a function for convinience\n",
    "def ShowImage(A):\n",
    "    fig, ax = plt.subplots()\n",
    "    plt.imshow(A)\n",
    "    ax.autoscale()\n",
    "    ax.margins(0.1)\n",
    "    ax.set_aspect('equal', 'box')\n",
    "    plt.axis('off')\n",
    "    plt.show()\n",
    "    \n",
    "# Use the drawing function\n",
    "ShowImage(A)\n",
    "ShowImage(B)"
   ]
  },
  {
   "cell_type": "markdown",
   "metadata": {},
   "source": [
    "## 5.2 Sampling pixels as point in $\\mathbb{R}^3$\n",
    "Given the two input images as two matrices, we can sample $N$ pixels with the following snippet, where we first vectorize the matrices (by stacking the columns) and then sampling the indeces of the pixel vector."
   ]
  },
  {
   "cell_type": "code",
   "execution_count": null,
   "metadata": {},
   "outputs": [],
   "source": [
    "def PointSamples(A, samples=100):\n",
    "    n,m,_ = A.shape\n",
    "    C = A.reshape(n*m,3)\n",
    "    s = np.random.randint(0, n*m, samples)\n",
    "    return C[s]"
   ]
  },
  {
   "cell_type": "markdown",
   "metadata": {},
   "source": [
    "We can then display the two images as cloud of point in $\\mathbb{R}^3$ using a [scatter plot](https://matplotlib.org/3.5.0/api/_as_gen/matplotlib.pyplot.scatter.html)."
   ]
  },
  {
   "cell_type": "code",
   "execution_count": null,
   "metadata": {},
   "outputs": [],
   "source": [
    "def DisplayCloud(C):\n",
    "    fig = plt.figure()\n",
    "    ax = fig.add_subplot(projection='3d')\n",
    "    plt.scatter(x=C[:,0], y=C[:,1], zs=C[:,2], s=10.0, c=C[:] )\n",
    "    plt.show()\n",
    "    #plt.savefig('cloud1.pdf', bbox_inches = 'tight', pad_inches = 0)"
   ]
  },
  {
   "cell_type": "code",
   "execution_count": null,
   "metadata": {},
   "outputs": [],
   "source": [
    "H1 = PointSamples(A, 100)\n",
    "H2 = PointSamples(B, 100)"
   ]
  },
  {
   "cell_type": "code",
   "execution_count": null,
   "metadata": {},
   "outputs": [],
   "source": [
    "DisplayCloud(H1)"
   ]
  },
  {
   "cell_type": "code",
   "execution_count": null,
   "metadata": {},
   "outputs": [],
   "source": [
    "DisplayCloud(H2)"
   ]
  },
  {
   "cell_type": "markdown",
   "metadata": {},
   "source": [
    "## 5.3 Finding a color mapping\n",
    "Given two samples of $N$ pixels, we can find a random mapping of the color of the first image into the second by taking a random permutation of the pixel indeces."
   ]
  },
  {
   "cell_type": "code",
   "execution_count": null,
   "metadata": {},
   "outputs": [],
   "source": [
    "from random import shuffle\n",
    "\n",
    "def RandomMapping(H1, H2):\n",
    "    N = len(H1)\n",
    "    I = [i for i in range(N)]\n",
    "    shuffle(I) # Make a random shuffle of the elements of the list\n",
    "    return I\n",
    "\n",
    "CMAP = RandomMapping(H1, H2)"
   ]
  },
  {
   "cell_type": "markdown",
   "metadata": {},
   "source": [
    "To compute the closest vector using an efficient function for [computing distances](https://docs.scipy.org/doc/scipy/reference/spatial.distance.html), we can use the [scipy spatial](https://docs.scipy.org/doc/scipy/reference/spatial.html) library:"
   ]
  },
  {
   "cell_type": "code",
   "execution_count": null,
   "metadata": {},
   "outputs": [],
   "source": [
    "# Find the close vector\n",
    "from scipy.spatial.distance import cdist\n",
    "def ClosestRGB(A, B):\n",
    "    return np.argmin(cdist(A, B), axis=1)"
   ]
  },
  {
   "cell_type": "markdown",
   "metadata": {},
   "source": [
    "Then, to transfer the color using the mapping given by CMAP:"
   ]
  },
  {
   "cell_type": "code",
   "execution_count": null,
   "metadata": {},
   "outputs": [],
   "source": [
    "def TransferColor(B, H1, H2, CMAP):\n",
    "    n,m,_ = B.shape\n",
    "    C = B.reshape(n*m,3)\n",
    "    Y = ClosestRGB(C, H1)\n",
    "    H4 = np.array([H2[CMAP[i]] for i in Y])\n",
    "    H5 = H4.reshape(n,m,3)\n",
    "    ShowImage(H5)"
   ]
  },
  {
   "cell_type": "code",
   "execution_count": null,
   "metadata": {},
   "outputs": [],
   "source": [
    "TransferColor(B, H1, H2, CMAP)"
   ]
  },
  {
   "cell_type": "markdown",
   "metadata": {},
   "source": [
    "## 5.4 Exercise: Finding the optimal mapping\n",
    "You have to write an LP model that solves the optimal mapping problem, given two samples of $N$ pixels of two different images. \n",
    "\n",
    "In the end you, have to return a permutation $\\pi$ of the indices of $N$ pixels, such that the following quantity is minimized: \n",
    "\n",
    "$$\\sum_{i=1}^N || N_A(i) - N_B(\\pi(i)) ||$$\n",
    "\n",
    "where $N_A$, $N_B$ are the sampled pixels from image $A$ and $B$."
   ]
  },
  {
   "cell_type": "code",
   "execution_count": null,
   "metadata": {},
   "outputs": [],
   "source": [
    "!wget http://www-dimat.unipv.it/gualandi/opt4ds/notte.jpg"
   ]
  },
  {
   "cell_type": "code",
   "execution_count": null,
   "metadata": {},
   "outputs": [],
   "source": [
    "from pyomo.environ import ConcreteModel, Var, Objective, Constraint, SolverFactory\n",
    "from pyomo.environ import RangeSet, NonNegativeReals, Binary, minimize\n",
    "\n",
    "def D(a,b):\n",
    "    return np.linalg.norm(a-b)**2\n",
    "    \n",
    "# Complete the following snippet\n",
    "def OptimalMapping(H1, H2):\n",
    "    n = len(H1)\n",
    "    m = len(H2)\n",
    "\n",
    "    # TODO: Complete....\n",
    "    mod = ConcreteModel()\n",
    "\n",
    "    mod.I = RangeSet(0, n-1)\n",
    "    mod.J = RangeSet(0, m-1)\n",
    "\n",
    "    mod.pi = Var(mod.I, mod.J, within=NonNegativeReals)\n",
    "\n",
    "    mod.obj = Objective(expr=sum(D(H1[i], H2[j])*mod.pi[i,j] for i,j in mod.pi ) )\n",
    "\n",
    "    mod.X = Constraint(mod.I,\n",
    "        rule = lambda m, i: sum(m.pi[i,j] for j in m.J) == 1)\n",
    "\n",
    "    mod.Y = Constraint(mod.J, \n",
    "        rule = lambda m, j: sum(m.pi[i,j] for i in m.I) == 1)\n",
    "\n",
    "    # Solve the model\n",
    "    opt = SolverFactory(\"gurobi\") \n",
    "    #opt.options['Method'] = 1\n",
    "    #opt.options['Crossover'] = 0\n",
    "    sol = opt.solve(mod, tee=False)\n",
    "\n",
    "    # Get a JSON representation of the solution\n",
    "    sol_json = sol.json_repn()\n",
    "    #print(\"runtime:\", sol_json['Solver'][0]['Wall time'])\n",
    "#    SolverFactory('gurobi').solve(mod, tee=True)\n",
    "\n",
    "    ColMap = []\n",
    "    for i in mod.I:\n",
    "        for j in mod.J:\n",
    "            if mod.pi[i,j]() > 0.5:\n",
    "                ColMap.append(j)\n",
    "    return ColMap\n",
    "    #for i in mod.I:\n",
    "    #    Ls = []\n",
    "    #    for j in mod.J:\n",
    "    #        if 0.01 < mod.pi[i,j]():\n",
    "    #            Ls.append( (j, mod.pi[i,j]()) )\n",
    "\n",
    "        # Random sampling for fractional solutions\n",
    "    #    Ps = np.array([v[1] for v in Ls])\n",
    "    #    idx = np.random.choice(len(Ls), p=Ps/np.sum(Ps))\n",
    "    #    ColMap.append(Ls[idx][0])\n",
    "    \n",
    "    #return ColMap"
   ]
  },
  {
   "cell_type": "code",
   "execution_count": null,
   "metadata": {},
   "outputs": [],
   "source": []
  },
  {
   "cell_type": "markdown",
   "metadata": {},
   "source": [
    "You can test your solution by running:"
   ]
  },
  {
   "cell_type": "code",
   "execution_count": null,
   "metadata": {},
   "outputs": [],
   "source": [
    "from time import perf_counter\n",
    "H1 = PointSamples(A, 1000)\n",
    "H2 = PointSamples(B, 1000)\n",
    "\n",
    "t0 = perf_counter()\n",
    "\n",
    "CMAP = OptimalMapping(H2, H1)\n",
    "TransferColor(B, H2, H1, CMAP)\n",
    "\n",
    "print('Overall runtime:', perf_counter()-t0)"
   ]
  },
  {
   "cell_type": "markdown",
   "metadata": {},
   "source": [
    "## 5.5 Working by hand with color palettes\n",
    "In Python, it is quite straightforward to define a palette of colors, since you only need to define a vector of RGB points.\n",
    "\n",
    "Suppose you want to select a color: you can go to the [RapidTable](https://www.rapidtables.com/web/color/RGB_Color.html) website and find the RGB values for your favorite color. Mine is bly, and here I can display a blue point:"
   ]
  },
  {
   "cell_type": "code",
   "execution_count": null,
   "metadata": {},
   "outputs": [],
   "source": [
    "# Define a color\n",
    "color = np.array([[0,128,255]])/255\n",
    "# Plot the color\n",
    "plt.scatter([1], [1], c=color, s=200)\n",
    "plt.show()"
   ]
  },
  {
   "cell_type": "markdown",
   "metadata": {},
   "source": [
    "Now, suppose I want to create a gradient of colors from dark blue to light blue:"
   ]
  },
  {
   "cell_type": "code",
   "execution_count": null,
   "metadata": {},
   "outputs": [],
   "source": [
    "# To take a first color: https://www.rapidtables.com/web/color/RGB_Color.html\n",
    "color = np.array([[0.0,i/255,1.0] for i in range(128-100,128+100, 20)])\n",
    "# Plot the palettes\n",
    "Xs = [1+i for i in range(len(color))]\n",
    "Ys = [1 for _ in color]\n",
    "plt.scatter(Xs,Ys, c=color, s=200)\n",
    "plt.show()"
   ]
  },
  {
   "cell_type": "markdown",
   "metadata": {},
   "source": [
    "**EXERCISE:** Modify the Optimal Mapping function so that it can take in input an image ($N$ random sample point) and a color palette you define *manually* representing $K < N$ colors. In output, you can have more than a single pixel from the image assigned (or mapped) to the same palette color."
   ]
  },
  {
   "cell_type": "code",
   "execution_count": null,
   "metadata": {},
   "outputs": [],
   "source": [
    "# Complete the following snippet\n",
    "# H2 is a color palette with len(H2) < len(H1)\n",
    "def PaletteMapping(H1, H2):\n",
    "    N = len(H1)\n",
    "    M = len(H2)\n",
    "    \n",
    "    mod = ConcreteModel()\n",
    "    \n",
    "    mod.I = RangeSet(0, N-1)\n",
    "    mod.J = RangeSet(0, M-1)\n",
    "    \n",
    "    mod.x = Var(mod.I, mod.J, within=NonNegativeReals)\n",
    "    \n",
    "    mod.obj = Objective(expr=sum(D(H1[i], H2[j]) * mod.x[i,j] for i,j in mod.x))\n",
    "    \n",
    "    mod.A = Constraint(mod.I,\n",
    "                       rule = lambda m, i: sum(m.x[i,j] for j in m.J) == M)\n",
    "\n",
    "    mod.B = Constraint(mod.J,\n",
    "                       rule = lambda m, j: sum(m.x[i,j] for i in m.I) == N)\n",
    "    \n",
    "\n",
    "    SolverFactory('gurobi').solve(mod, tee=True)\n",
    "    \n",
    "    ColMap = []\n",
    "\n",
    "    for i in mod.I:\n",
    "        for j in mod.J:\n",
    "            if mod.x[i,j]() > 0.5:\n",
    "                ColMap.append(j)\n",
    "                \n",
    "    return ColMap"
   ]
  },
  {
   "cell_type": "code",
   "execution_count": null,
   "metadata": {},
   "outputs": [],
   "source": [
    "def BluPalette():\n",
    "    # Pick a color: https://www.rapidtables.com/web/color/RGB_Color.html\n",
    "    return np.array([i/255, (255-i)/255, i/255] for i in range(128-100,128+100, 1)])"
   ]
  },
  {
   "cell_type": "code",
   "execution_count": null,
   "metadata": {},
   "outputs": [],
   "source": [
    "H1 = PointSamples(A, 200)\n",
    "H2 = BluPalette()\n",
    "print(H2.shape)\n",
    "CMAP = PaletteMapping(H1, H2)\n",
    "TransferColor(B, H1, H2, CMAP)"
   ]
  },
  {
   "cell_type": "markdown",
   "metadata": {},
   "source": [
    "## 5.6 Using a better color space\n",
    "Measuring the distance between two colors in the RGB space does not reflect the human perception of colors. For this reason, different color spaces where studied and standardized, as for instance, for the [CIELAB](https://en.wikipedia.org/wiki/Color_difference#CIELAB_%CE%94E*) standard. For an explanation of the three coordinates in the CIELAB color space, we refer to [wikipedia](https://en.wikipedia.org/wiki/CIELAB_color_space#CIELAB_coordinates).\n",
    "\n",
    "The conversion from a RGB image to an $L*a*b$ image can be realized with the following function:"
   ]
  },
  {
   "cell_type": "code",
   "execution_count": null,
   "metadata": {},
   "outputs": [],
   "source": [
    "# Taken from:\n",
    "# https://stackoverflow.com/questions/13405956/convert-an-image-rgb-lab-with-python\n",
    "\n",
    "def rgb2lab(inputColor):\n",
    "    num = 0\n",
    "    RGB = [0, 0, 0]\n",
    "    for value in inputColor:\n",
    "        value = float(value) / 255\n",
    "        if value > 0.04045:\n",
    "            value = ((value + 0.055 ) / 1.055)**2.4\n",
    "        else:\n",
    "            value = value / 12.92\n",
    "\n",
    "        RGB[num] = value * 100\n",
    "        num = num + 1\n",
    "\n",
    "    XYZ = [0, 0, 0,]\n",
    "\n",
    "    X = RGB [0] * 0.4124 + RGB [1] * 0.3576 + RGB [2] * 0.1805\n",
    "    Y = RGB [0] * 0.2126 + RGB [1] * 0.7152 + RGB [2] * 0.0722\n",
    "    Z = RGB [0] * 0.0193 + RGB [1] * 0.1192 + RGB [2] * 0.9505\n",
    "    XYZ[0] = round(X, 4)\n",
    "    XYZ[1] = round(Y, 4)\n",
    "    XYZ[2] = round(Z, 4)\n",
    "\n",
    "    XYZ[0] = float( XYZ[0] ) / 95.047         # ref_X =  95.047   Observer= 2°, Illuminant= D65\n",
    "    XYZ[1] = float( XYZ[1] ) / 100.0          # ref_Y = 100.000\n",
    "    XYZ[2] = float( XYZ[2] ) / 108.883        # ref_Z = 108.883\n",
    "\n",
    "    num = 0\n",
    "    for value in XYZ :\n",
    "        if value > 0.008856 :\n",
    "            value = value ** ( 0.3333333333333333 )\n",
    "        else:\n",
    "            value = ( 7.787 * value ) + ( 16 / 116 )\n",
    "\n",
    "        XYZ[num] = value\n",
    "        num = num + 1\n",
    "\n",
    "    Lab = [0, 0, 0]\n",
    "\n",
    "    L = ( 116 * XYZ[ 1 ] ) - 16\n",
    "    a = 500 * ( XYZ[ 0 ] - XYZ[ 1 ] )\n",
    "    b = 200 * ( XYZ[ 1 ] - XYZ[ 2 ] )\n",
    "\n",
    "    Lab[0] = round( L, 4 )\n",
    "    Lab[1] = round( a, 4 )\n",
    "    Lab[2] = round( b, 4 )\n",
    "\n",
    "    return Lab"
   ]
  },
  {
   "cell_type": "markdown",
   "metadata": {},
   "source": [
    "To notice the difference between the two color spaces, look at the following code:"
   ]
  },
  {
   "cell_type": "code",
   "execution_count": null,
   "metadata": {},
   "outputs": [],
   "source": [
    "H3 = np.array([rgb2lab(c) for c in H2])"
   ]
  },
  {
   "cell_type": "code",
   "execution_count": null,
   "metadata": {},
   "outputs": [],
   "source": [
    "def DisplayCloudLab(C, color):\n",
    "    fig = plt.figure()\n",
    "    ax = fig.add_subplot(projection='3d')\n",
    "    plt.scatter(x=C[:,0], y=C[:,1], zs=C[:,2], s=10.0, c=color[:] )\n",
    "    plt.show()"
   ]
  },
  {
   "cell_type": "code",
   "execution_count": null,
   "metadata": {
    "scrolled": true
   },
   "outputs": [],
   "source": [
    "DisplayCloud(H2)"
   ]
  },
  {
   "cell_type": "code",
   "execution_count": null,
   "metadata": {},
   "outputs": [],
   "source": [
    "DisplayCloudLab(H3, H2)"
   ]
  },
  {
   "cell_type": "markdown",
   "metadata": {},
   "source": [
    "**EXERCISE (optional):** Modify the Optimal Mapping function to replace the Euclidean cost in the RGB space, with the Euclidean distance in the $L*a*b$ space (that is, the *old* CIE76 standard). Remember that the final image must be stilla RGB image, you only compute the distance between a pair of pixels by using their color in the $L*a*b$ space."
   ]
  },
  {
   "cell_type": "code",
   "execution_count": null,
   "metadata": {},
   "outputs": [],
   "source": [
    "def OptimalLabMapping(H1, H2):\n",
    "    N = len(H1)\n",
    "    I = [i for i in range(N)]\n",
    "    \n",
    "    # COMPLETE WITH A PYOMO MODEL AND ELABORATE THE RESULTS\n",
    "    \n",
    "    return I"
   ]
  },
  {
   "cell_type": "code",
   "execution_count": null,
   "metadata": {},
   "outputs": [],
   "source": [
    "CMAP = OptimalLabMapping(H1, H2)\n",
    "TransferColor(B, H1, H2, CMAP)"
   ]
  }
 ],
 "metadata": {
  "@webio": {
   "lastCommId": null,
   "lastKernelId": null
  },
  "kernelspec": {
   "display_name": "Python 3.11.2 64-bit",
   "language": "python",
   "name": "python3"
  },
  "language_info": {
   "codemirror_mode": {
    "name": "ipython",
    "version": 3
   },
   "file_extension": ".py",
   "mimetype": "text/x-python",
   "name": "python",
   "nbconvert_exporter": "python",
   "pygments_lexer": "ipython3",
   "version": "3.11.2"
  },
  "latex_envs": {
   "LaTeX_envs_menu_present": true,
   "autoclose": false,
   "autocomplete": true,
   "bibliofile": "biblio.bib",
   "cite_by": "apalike",
   "current_citInitial": 1,
   "eqLabelWithNumbers": true,
   "eqNumInitial": 1,
   "hotkeys": {
    "equation": "Ctrl-E",
    "itemize": "Ctrl-I"
   },
   "labels_anchors": false,
   "latex_user_defs": false,
   "report_style_numbering": false,
   "user_envs_cfg": false
  },
  "vscode": {
   "interpreter": {
    "hash": "b0fa6594d8f4cbf19f97940f81e996739fb7646882a419484c72d19e05852a7e"
   }
  }
 },
 "nbformat": 4,
 "nbformat_minor": 2
}
