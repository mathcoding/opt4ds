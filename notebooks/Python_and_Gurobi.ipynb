{
 "cells": [
  {
   "cell_type": "markdown",
   "id": "familiar-registration",
   "metadata": {},
   "source": [
    "<a rel=\"license\" href=\"http://creativecommons.org/licenses/by/4.0/\"><img alt=\"Creative Commons License\" style=\"border-width:0\" src=\"https://i.creativecommons.org/l/by/4.0/88x31.png\" /></a><br /><span xmlns:dct=\"http://purl.org/dc/terms/\" property=\"dct:title\"><b>Modeling with Gurobi: the basics</b></span> by <a xmlns:cc=\"http://creativecommons.org/ns#\" href=\"http://mate.unipv.it/gualandi\" property=\"cc:attributionName\" rel=\"cc:attributionURL\">Stefano Gualandi</a> is licensed under a <a rel=\"license\" href=\"http://creativecommons.org/licenses/by/4.0/\">Creative Commons Attribution 4.0 International License</a>.<br />Based on a work at <a xmlns:dct=\"http://purl.org/dc/terms/\" href=\"https://github.com/mathcoding/opt4ds\" rel=\"dct:source\">https://github.com/mathcoding/opt4ds</a>."
   ]
  },
  {
   "cell_type": "markdown",
   "id": "mental-hundred",
   "metadata": {},
   "source": [
    "**NOTE:** Execute the following command whenever running this script on a Google Colab."
   ]
  },
  {
   "cell_type": "code",
   "execution_count": null,
   "id": "loving-spanking",
   "metadata": {},
   "outputs": [],
   "source": [
    "# Run if on Colab\n",
    "# %pip install gurobipy"
   ]
  },
  {
   "cell_type": "markdown",
   "id": "opening-practice",
   "metadata": {},
   "source": [
    "# 2. Writing LP models with Gurobi\n",
    "In this notebook, we show how to use Gurobi to write general LPs problems."
   ]
  },
  {
   "cell_type": "markdown",
   "id": "ffa570d0",
   "metadata": {},
   "source": [
    "## 2.1 Steel Production Planning\n",
    "\n",
    "In this notebook, we explain how to solve the **Linear Programming** problem that we have written to solve the Steel Planning problem during the class (see the slides on KIRO). This problem is given as Exercise 1.1 in Chapter 1 of [Linear Programming, Foundations and Extensions](https://link.springer.com/book/10.1007/978-1-4614-7630-6) by [R.J. Vanderbei](https://vanderbei.princeton.edu/).\n",
    "\n",
    "We show below how to use [Gurobi](https://www.gurobi.com/academia/academic-program-and-licenses/) to define the **variables**, the **objective function**, and the **constraints**."
   ]
  },
  {
   "cell_type": "markdown",
   "id": "a8098b19",
   "metadata": {},
   "source": [
    "**CHECK THE NOTEBOOK FOR THIS EXERCISE TO GET THE BASICS OF THE GUROBI SYNTAX**"
   ]
  },
  {
   "cell_type": "markdown",
   "id": "18ec70d0",
   "metadata": {},
   "source": [
    "## 2.2 Lego Planning Problem\n",
    "As a first exercise, you have to solve the **Linear Programming (LP)** problem that we have written to model the Lego Planning problem (see the slides on KIRO):\n",
    "\n",
    "$$\n",
    "\\begin{align}\n",
    "\\max \\quad & 8 c + 11 t  \\\\\n",
    " \\quad & 2c + 2t \\leq 24 \\\\\n",
    "& c + 2 t \\leq 18\\\\\n",
    "& c \\geq 0\\\\\n",
    "& t \\geq 0\n",
    "\\end{align}\n",
    "$$\n",
    "\n",
    "You have to use Gurobi to define the **variables**, the **objective function**, and the **constraints**.\n",
    "\n",
    "**EXERCISE 1:** Using the template for the *Steel Production Planning Problem* solve the LEGO instance defined above."
   ]
  },
  {
   "cell_type": "code",
   "execution_count": null,
   "id": "d513dae5",
   "metadata": {},
   "outputs": [],
   "source": [
    "# Write your own script"
   ]
  },
  {
   "cell_type": "markdown",
   "id": "26981cb0",
   "metadata": {},
   "source": [
    "**EXERCISE 2:** Modify the previous script to solve the second version of the Lego Planning problem:\n",
    "\n",
    "$$\n",
    "\\begin{align}\n",
    "\\max \\quad & 8 c + 11 t + 15 s \\\\\n",
    " \\quad & 2c + 2t +2s \\leq 24 \\\\\n",
    "& c + 2 t +3s \\leq 18\\\\\n",
    "& c \\geq 0\\\\\n",
    "& t \\geq 0\\\\\n",
    "& s \\geq 0\n",
    "\\end{align}\n",
    "$$\n",
    "\n",
    "You have to add a third variable to the model, to modify the objective function, and the two constraints. Later, you call the solver again, check the status of the solver, and the solution values."
   ]
  },
  {
   "cell_type": "code",
   "execution_count": null,
   "id": "69099f2f",
   "metadata": {},
   "outputs": [],
   "source": [
    "# Write your own script"
   ]
  },
  {
   "cell_type": "markdown",
   "id": "negative-smart",
   "metadata": {},
   "source": [
    "## 2.3 Random LPs\n",
    "Let consider the following python function that generates a random LP instance.\n",
    "\n",
    "Recall that an LP is completely defined by the cost vector $c \\in \\mathbb{R}^n$, the rhs vector $b \\in \\mathbb{R}^m$, and the coefficient matrix $A \\in \\mathbb{R}^{m \\times n}$:\n",
    "\n",
    "$$\n",
    "    z = \\min \\,\\{ c x \\mid Ax \\geq b, x \\geq 0 \\,\\}\n",
    "$$\n",
    "\n",
    "Look at the following function."
   ]
  },
  {
   "cell_type": "code",
   "execution_count": null,
   "id": "ready-astronomy",
   "metadata": {},
   "outputs": [],
   "source": [
    "from numpy import random\n",
    "\n",
    "def RandomLP(n, m, seed=13):\n",
    "    random.seed(seed)\n",
    "    c = random.randint(1, 10, size=n)\n",
    "    b = random.randint(1, 10, size=m)\n",
    "    A = random.randint(1, 10, size=(m,n))    \n",
    "    return c, b, A\n",
    "    \n",
    "print(RandomLP(3,4))"
   ]
  },
  {
   "cell_type": "markdown",
   "id": "adequate-florist",
   "metadata": {},
   "source": [
    "Next, we write another function that takes as input the data of an LP instance and builds the LP model using the Gurobi syntax, solves the instances, check the return status of the solver, and, if possible, print to screen an optimal solution."
   ]
  },
  {
   "cell_type": "code",
   "execution_count": null,
   "id": "impossible-macedonia",
   "metadata": {},
   "outputs": [],
   "source": [
    "from gurobipy import Model, GRB, quicksum\n",
    "\n",
    "def SolveLP(c, b, A):\n",
    "    m = len(b)\n",
    "    n = len(c)\n",
    "    \n",
    "    model = Model()\n",
    "    \n",
    "    # Be careful: RangeSet starts at 1 and not a 0, as python list index\n",
    "    I = range(n)\n",
    "    J = range(m)\n",
    "    \n",
    "    x = {}\n",
    "    for i in I:\n",
    "        x[i] = model.addVar(obj=c[i], name=\"x_{}\".format(i))    \n",
    "    \n",
    "    for j in J:\n",
    "        model.addConstr(quicksum(A[j, i]*x[i] for i in I) >= b[j])\n",
    "    \n",
    "    # Default: model.ModelSense = GRB.MINIMIZE\n",
    "\n",
    "    model.optimize()\n",
    "\n",
    "    # Basic info about the solution process\n",
    "    print(f\"Status: {model.Status}, ObjVal: {model.ObjVal}\")\n",
    "\n",
    "    xbar = [x[i].X for i in I]\n",
    "\n",
    "    # Return objective value and decision variables\n",
    "    return model.ObjVal, xbar"
   ]
  },
  {
   "cell_type": "markdown",
   "id": "b8ad962e",
   "metadata": {},
   "source": [
    "Below we show an example of calling this function."
   ]
  },
  {
   "cell_type": "code",
   "execution_count": null,
   "id": "statutory-density",
   "metadata": {},
   "outputs": [],
   "source": [
    "c, b, A = RandomLP(2, 3, 1717)\n",
    "print(c,b,A)\n",
    "print(SolveLP(c, b, A))"
   ]
  },
  {
   "cell_type": "markdown",
   "id": "cubic-elimination",
   "metadata": {},
   "source": [
    "### 2.4 Nurse Scheduling\n",
    "Consider the nurse scheduling problem on the lecture' slides.\n",
    "\n",
    "Let us write the same model, but in addition we use a cost larger than 1 for the Friday, Saturday, and Sunday nights.\n",
    "\n",
    "For the model description we refer to the slides used during the lecture."
   ]
  },
  {
   "cell_type": "code",
   "execution_count": null,
   "id": "comfortable-prayer",
   "metadata": {},
   "outputs": [],
   "source": [
    "# Import the numerical python library https://numpy.org/\n",
    "import numpy as np\n",
    "\n",
    "def StaffScheduling():\n",
    "    # Data\n",
    "    d = 7\n",
    "    w = 5\n",
    "    demand = [5, 6, 7, 3, 3, 2, 2]\n",
    "    cost = [1.0, 1.0, 1.0, 1.0, 1.0, 1.0, 1.0]\n",
    "\n",
    "    # Using the numpy library create a matrix of dimension \"d x d\"\n",
    "    A = np.zeros( (d,d) )\n",
    "    # Set the matrix coefficient to 1 using the patter of the slide\n",
    "    for i in range(d):\n",
    "        for j in range(w):\n",
    "            A[(i+j)%d, i] = 1\n",
    "    \n",
    "    # Declare the model\n",
    "            \n",
    "    # TODO: Complete this script using the Gurobi library\n",
    "\n",
    "    return None, None\n",
    " "
   ]
  },
  {
   "cell_type": "code",
   "execution_count": null,
   "id": "unlike-uzbekistan",
   "metadata": {},
   "outputs": [],
   "source": [
    "print(StaffScheduling())"
   ]
  },
  {
   "cell_type": "markdown",
   "id": "b242e578",
   "metadata": {},
   "source": [
    "### 2.5 Exercise: Steel Recycle Blending Problem\n",
    "The industrial steel can be easily recycled, since it is possible to burn any\n",
    "scrap to get only liquid steel (without plastics, glasses, ...).\n",
    "However, it is hard to separate each single metal presents in the scrap,\n",
    "and as a consequence, beside iron, we can get also chromium, nichel, and\n",
    "other impurities in the liquid steel.\n",
    "\n",
    "Depending on the type of production, some metals are desirable, while others\n",
    "are not. For example, the stainless steel 18/10 must have 18% of chromium and\n",
    "10% of nichel (consider that chromium and nichel are very expensive, much more \n",
    "than the steel itself). \n",
    "\n",
    "**Problem Statement:** Suppose that the Brambilla's Steel company of Voghera can choose to buy some iron\n",
    "scrap block with different properties regarding the different metals contained in \n",
    "each block. The company want to produce at minimum cost 100 quintals of stainless \n",
    "steel 18/10, which must have at least 65% of iron and at most 1% of \n",
    "impurity materials. Which fraction of each block is going to buy?\n",
    "\n",
    "The data of the problem are given below."
   ]
  },
  {
   "cell_type": "code",
   "execution_count": 7,
   "id": "f776d9a6",
   "metadata": {},
   "outputs": [
    {
     "name": "stdout",
     "output_type": "stream",
     "text": [
      "Gurobi Optimizer version 11.0.0 build v11.0.0rc2 (mac64[arm] - Darwin 24.3.0 24D70)\n",
      "\n",
      "CPU model: Apple M2\n",
      "Thread count: 8 physical cores, 8 logical processors, using up to 8 threads\n",
      "\n",
      "Optimize a model with 5 rows, 6 columns and 28 nonzeros\n",
      "Model fingerprint: 0xa5935a04\n",
      "Coefficient statistics:\n",
      "  Matrix range     [1e-02, 1e+00]\n",
      "  Objective range  [5e+01, 1e+02]\n",
      "  Bounds range     [3e+01, 9e+01]\n",
      "  RHS range        [1e+00, 1e+02]\n",
      "Presolve time: 0.00s\n",
      "Presolved: 5 rows, 6 columns, 28 nonzeros\n",
      "\n",
      "Iteration    Objective       Primal Inf.    Dual Inf.      Time\n",
      "       0    4.6000000e+03   3.475000e+01   0.000000e+00      0s\n",
      "       4    1.0567580e+04   0.000000e+00   0.000000e+00      0s\n",
      "\n",
      "Solved in 4 iterations and 0.00 seconds (0.00 work units)\n",
      "Optimal objective  1.056757991e+04\n",
      "Status: 2, ObjVal: 10567.5799086758\n",
      "Solution vector [0.0, 40.1826484018265, 0.0, 9.589041095890414, 1.8264840182648352, 48.40182648401826]\n"
     ]
    }
   ],
   "source": [
    "import numpy as np\n",
    "\n",
    "# Data of the problem (in theory, read data from .csv or excel file)\n",
    "\n",
    "# Blocks you can buy\n",
    "Blocks = ['Block1','Block2','Block3','Block4','Block5','Block6']\n",
    "\n",
    "Weights = [30, 90, 50, 70, 60, 50]  # In quintals\n",
    "Costs = [50, 100, 80, 85, 92, 115]  # Thousand of euros\n",
    "\n",
    "# Components of metal in each block (given in percentage)\n",
    "Cs = np.matrix([[93, 76, 74, 65, 72, 68],  # Ferro\n",
    "                [5, 13, 11, 16, 6, 23],    # Cromo\n",
    "                [0, 11, 12, 14, 20, 8],    # Nichel\n",
    "                [2, 0, 3, 5, 2, 1]])       # Impurità\n",
    "\n",
    "\n",
    "from gurobipy import Model, GRB, quicksum\n",
    "\n",
    "model = Model()\n",
    "\n",
    "# Decision variables\n",
    "x = [model.addVar(ub=Weights[i], obj=c)   for i, c in enumerate(Costs)]\n",
    "\n",
    "#z = [model.addVar(vtype=GRB.BINARY, obj=Weights[i]*Costs[i]) for i in range(len(Costs))]\n",
    "\n",
    "# Constraints\n",
    "model.addConstr(quicksum(x[i] for i in range(len(x))) == 100)\n",
    "#model.addConstr(quicksum(xi for xi in x) == 100)\n",
    "\n",
    "model.addConstr(quicksum(Cs[0,i]/100*x[i] for i in range(len(x))) >= 65)\n",
    "model.addConstr(quicksum(Cs[1,i]/100*x[i] for i in range(len(x))) == 18)\n",
    "model.addConstr(quicksum(Cs[2,i]/100*x[i] for i in range(len(x))) == 10)\n",
    "model.addConstr(quicksum(Cs[3,i]/100*x[i] for i in range(len(x))) <= 1)\n",
    "\n",
    "#for i in range(len(x)):\n",
    "#    model.addConstr(x[i] <= Weights[i]*z[i])\n",
    "\n",
    "model.optimize()\n",
    "\n",
    "print(f\"Status: {model.Status}, ObjVal: {model.ObjVal}\")\n",
    "print('Solution vector', [xi.X for xi in x])\n",
    "#print('Solution vector', [zi.X for zi in z])"
   ]
  },
  {
   "cell_type": "markdown",
   "id": "e7ee7203",
   "metadata": {},
   "source": [
    "**EXERCISE 3:** First, write on paper a LP model to solve the steel production problem for the Rossi's Steel company\n",
    "\n",
    "**EXERCISE 4:** Solve the LP using Gurobi. "
   ]
  },
  {
   "cell_type": "markdown",
   "id": "01f88890",
   "metadata": {},
   "source": [
    "### Exercise 2.6: The Magic Square Puzzle\n",
    "The [Magic Square](https://en.wikipedia.org/wiki/Magic_square) puzzle asks to place into a grid of size $n \\times n$ the digits from $1$ to $n^2$, in such a way that the sum of the digits in each row, the sum of digits in each column, and the sum of the digits on the two main diagonals, is equal to the same number.\n",
    "\n",
    "You can play with a $4 \\times 4$ puzzle on Google Sheet online at [magic square link](https://docs.google.com/spreadsheets/d/1OcicQdKbZXpSV4ooXsbGC2OFR5cSgwgWgUimdwcT0qA/edit?usp=sharing).\n",
    "\n",
    "**EXERCISE 5:** Write an ILP model to solve the magic square puzzle of size $n$."
   ]
  },
  {
   "cell_type": "code",
   "execution_count": null,
   "id": "11784c83",
   "metadata": {},
   "outputs": [],
   "source": [
    "# Write your model here"
   ]
  }
 ],
 "metadata": {
  "@webio": {
   "lastCommId": null,
   "lastKernelId": null
  },
  "kernelspec": {
   "display_name": "env_grb",
   "language": "python",
   "name": "python3"
  },
  "language_info": {
   "codemirror_mode": {
    "name": "ipython",
    "version": 3
   },
   "file_extension": ".py",
   "mimetype": "text/x-python",
   "name": "python",
   "nbconvert_exporter": "python",
   "pygments_lexer": "ipython3",
   "version": "3.12.6"
  }
 },
 "nbformat": 4,
 "nbformat_minor": 5
}
